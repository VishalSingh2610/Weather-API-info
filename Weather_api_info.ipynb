{
  "nbformat": 4,
  "nbformat_minor": 0,
  "metadata": {
    "colab": {
      "name": "Weather api info",
      "provenance": []
    },
    "kernelspec": {
      "name": "python3",
      "display_name": "Python 3"
    },
    "language_info": {
      "name": "python"
    }
  },
  "cells": [
    {
      "cell_type": "code",
      "metadata": {
        "id": "GXmi2_Ui0WAa"
      },
      "source": [
        " \n",
        "import requests\n",
        "from datetime import datetime\n",
        " \n",
        "api_key='49a59f8e1a444b557f6d2262e723d428'\n",
        "location = input(\"Enter the city name: \")\n",
        "complete_api_link=\"https://api.openweathermap.org/data/2.5/weather?q=\"+location+\"&appid=\"+api_key\n",
        " \n",
        "api_link= requests.get(complete_api_link)\n",
        "api_data = api_link.json()\n",
        " \n",
        "temp_city=((api_data['main']['temp'])-273.15)\n",
        "weather_desc = api_data['weather'][0]['description']\n",
        "hmdt = api_data['main']['humidity']\n",
        "date_time = datetime.now().strftime (\"%d %b %Y | %I:%M:%S %p\")\n",
        "wind_spd=api_data['wind']['speed']\n",
        " \n",
        " \n",
        "print (\"----------------------------------------\")\n",
        "print (\"Weather Stats for-{} || {}\".format(location.upper(), date_time))\n",
        "print (\"----------------------------------------\")\n",
        " \n",
        "# Here data have written in weather.txt file\n",
        " \n",
        "f=open(\"weather.txt\",\"w\")\n",
        "f.write(\"Weather Status for-\\t\"+str(location)+\"\\t\"+str(date_time))\n",
        "f.write(\"\\n\\nCurrent temp is      :\"+str(temp_city))\n",
        "f.write(\"\\nCurrent weather desc :\"+str(weather_desc))\n",
        "f.write(\"\\nCurrent humidity     :\"+str(hmdt))\n",
        "f.write(\"\\nCurrent wind speed   :\"+str(wind_spd))\n",
        "f.close()\n",
        " \n",
        " \n",
        "print(\"Current temperature is: {:.2f} deg C\".format(temp_city))\n",
        "print(\"Current weather desc  :\", weather_desc)\n",
        "print(\"Current Humidity      :\",hmdt, '%')\n",
        "print(\"Current wind speed    :\",wind_spd,'kmph')"
      ],
      "execution_count": null,
      "outputs": []
    }
  ]
}